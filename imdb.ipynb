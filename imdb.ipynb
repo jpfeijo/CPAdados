{
 "cells": [
  {
   "cell_type": "code",
   "execution_count": 17,
   "source": [
    "import requests\r\n",
    "from bs4 import BeautifulSoup\r\n",
    "import pandas as pd\r\n",
    "import json\r\n",
    "from unidecode import unidecode\r\n",
    "import shutil\r\n",
    "\r\n",
    "link = 'https://www.imdb.com/'\r\n",
    "\r\n",
    "res = requests.get(f'{link}chart/top/?ref_=nv_mv_250')\r\n",
    "soup = BeautifulSoup(res.text, 'html5lib')"
   ],
   "outputs": [],
   "metadata": {}
  },
  {
   "cell_type": "code",
   "execution_count": 20,
   "source": [
    "tabela = soup.find('tbody', {'class': 'lister-list'})\r\n",
    "filmes = tabela.find_all('tr')\r\n",
    "\r\n",
    "filmes_dic = {}\r\n",
    "\r\n",
    "for filme in filmes:\r\n",
    "    \r\n",
    "    filme_site = requests.get(f\"{link}{filme.find('a')['href']}\")\r\n",
    "    filme_html = BeautifulSoup(filme_site.text, 'html5lib')\r\n",
    "    titulo = filme_html.find('h1', attrs={'data-testid': 'hero-title-block__title'}).text\r\n",
    "    valores = {}\r\n",
    "    valores['Ano de lancamento'] = filme_html.find('ul', attrs={'data-testid': 'hero-title-block__metadata'}).find('a').text\r\n",
    "    valores['URL do poster'] = filme_html.find('div', attrs={'data-testid': 'hero-media__poster'}).find('a')['href']\r\n",
    "    valores['Imagem do poster'] = filme_html.find('div', attrs={'data-testid': 'hero-media__poster'}).find('img')['src']\r\n",
    "\r\n",
    "        \r\n",
    "    res_img = requests.get(valores['Imagem do poster'], stream=True)\r\n",
    "    img_path = f'./posters/{unidecode(titulo)}.png'\r\n",
    "    with open(img_path, 'wb') as f:\r\n",
    "            shutil.copyfileobj(res_img.raw, f)\r\n",
    "    valores['Caminho da imagem'] = img_path\r\n",
    "\r\n",
    "    valores['Nota'] = filme_html.find('div', attrs={'data-testid': 'hero-rating-bar__aggregate-rating__score'}).find('span').text\r\n",
    "\r\n",
    "    generos = []\r\n",
    "    for genero in filme_html.find('div', attrs={'data-testid': 'genres'}).find_all('a'):\r\n",
    "        generos.append(genero.text)\r\n",
    "\r\n",
    "    valores['Generos'] = generos\r\n",
    "\r\n",
    "    diretores = []\r\n",
    "    for diretor in filme_html.find('section', attrs={'data-testid': 'title-cast'}).find('div', {'class': 'ipc-metadata-list-item__content-container'}).find_all('li'):\r\n",
    "        diretores.append(diretor.text)\r\n",
    "\r\n",
    "    valores['Diretores'] = diretores\r\n",
    "\r\n",
    "    filmes_dic[unidecode(titulo)] = valores"
   ],
   "outputs": [],
   "metadata": {}
  },
  {
   "cell_type": "code",
   "execution_count": 23,
   "source": [
    "with open(\"sample.json\", \"w\") as outfile:\r\n",
    "    json.dump(filmes_dic, outfile)"
   ],
   "outputs": [],
   "metadata": {}
  },
  {
   "cell_type": "code",
   "execution_count": null,
   "source": [],
   "outputs": [],
   "metadata": {}
  }
 ],
 "metadata": {
  "orig_nbformat": 4,
  "language_info": {
   "name": "python",
   "version": "3.10.6",
   "mimetype": "text/x-python",
   "codemirror_mode": {
    "name": "ipython",
    "version": 3
   },
   "pygments_lexer": "ipython3",
   "nbconvert_exporter": "python",
   "file_extension": ".py"
  },
  "kernelspec": {
   "name": "python3",
   "display_name": "Python 3.10.6 64-bit ('webs': conda)"
  },
  "interpreter": {
   "hash": "cc05c013e48d3f337adee3b9c178b62d0b079861945c08f6e52a87e6849af974"
  }
 },
 "nbformat": 4,
 "nbformat_minor": 2
}