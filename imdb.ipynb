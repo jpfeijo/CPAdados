{
 "cells": [
  {
   "cell_type": "code",
   "execution_count": 2,
   "metadata": {},
   "outputs": [
    {
     "ename": "ModuleNotFoundError",
     "evalue": "No module named 'unidecode'",
     "output_type": "error",
     "traceback": [
      "\u001b[0;31m---------------------------------------------------------------------------\u001b[0m",
      "\u001b[0;31mModuleNotFoundError\u001b[0m                       Traceback (most recent call last)",
      "\u001b[0;32m<ipython-input-2-58ea6db75391>\u001b[0m in \u001b[0;36m<module>\u001b[0;34m\u001b[0m\n\u001b[1;32m      3\u001b[0m \u001b[0;32mimport\u001b[0m \u001b[0mpandas\u001b[0m \u001b[0;32mas\u001b[0m \u001b[0mpd\u001b[0m\u001b[0;34m\u001b[0m\u001b[0;34m\u001b[0m\u001b[0m\n\u001b[1;32m      4\u001b[0m \u001b[0;32mimport\u001b[0m \u001b[0mjson\u001b[0m\u001b[0;34m\u001b[0m\u001b[0;34m\u001b[0m\u001b[0m\n\u001b[0;32m----> 5\u001b[0;31m \u001b[0;32mfrom\u001b[0m \u001b[0munidecode\u001b[0m \u001b[0;32mimport\u001b[0m \u001b[0munidecode\u001b[0m\u001b[0;34m\u001b[0m\u001b[0;34m\u001b[0m\u001b[0m\n\u001b[0m\u001b[1;32m      6\u001b[0m \u001b[0;32mimport\u001b[0m \u001b[0mshutil\u001b[0m\u001b[0;34m\u001b[0m\u001b[0;34m\u001b[0m\u001b[0m\n\u001b[1;32m      7\u001b[0m \u001b[0;32mfrom\u001b[0m \u001b[0mpathlib\u001b[0m \u001b[0;32mimport\u001b[0m \u001b[0mPath\u001b[0m\u001b[0;34m\u001b[0m\u001b[0;34m\u001b[0m\u001b[0m\n",
      "\u001b[0;31mModuleNotFoundError\u001b[0m: No module named 'unidecode'"
     ]
    }
   ],
   "source": [
    "import requests\n",
    "from bs4 import BeautifulSoup\n",
    "import pandas as pd\n",
    "import json\n",
    "from unidecode import unidecode\n",
    "import shutil\n",
    "from pathlib import Path\n",
    "\n",
    "link = 'https://www.imdb.com/'\n",
    "\n",
    "res = requests.get(f'{link}chart/top/?ref_=nv_mv_250')\n",
    "soup = BeautifulSoup(res.text, 'html5lib')"
   ]
  },
  {
   "cell_type": "code",
   "execution_count": null,
   "metadata": {},
   "outputs": [],
   "source": [
    "tabela = soup.find('tbody', {'class': 'lister-list'})\n",
    "filmes = tabela.find_all('tr')\n",
    "Path('./posters').mkdir(exist_ok=True)\n",
    "\n",
    "filmes_dic = {}\n",
    "\n",
    "for filme in filmes:\n",
    "    \n",
    "    filme_site = requests.get(f\"{link}{filme.find('a')['href']}\")\n",
    "    filme_html = BeautifulSoup(filme_site.text, 'html5lib')\n",
    "    titulo = filme_html.find('h1', attrs={'data-testid': 'hero-title-block__title'}).text\n",
    "    valores = {}\n",
    "    valores['Ano de lancamento'] = filme_html.find('ul', attrs={'data-testid': 'hero-title-block__metadata'}).find('a').text\n",
    "    valores['URL do poster'] = filme_html.find('div', attrs={'data-testid': 'hero-media__poster'}).find('a')['href']\n",
    "    valores['Imagem do poster'] = filme_html.find('div', attrs={'data-testid': 'hero-media__poster'}).find('img')['src']\n",
    "    \n",
    "    res_img = requests.get(valores['Imagem do poster'], stream=True)\n",
    "    img_path = f'./posters/{unidecode(titulo)}.png'\n",
    "    with open(img_path, 'wb') as f:\n",
    "            shutil.copyfileobj(res_img.raw, f)\n",
    "    valores['Caminho da imagem'] = img_path\n",
    "\n",
    "    valores['Nota'] = filme_html.find('div', attrs={'data-testid': 'hero-rating-bar__aggregate-rating__score'}).find('span').text\n",
    "\n",
    "    generos = []\n",
    "    for genero in filme_html.find('div', attrs={'data-testid': 'genres'}).find_all('a'):\n",
    "        generos.append(genero.text)\n",
    "\n",
    "    valores['Generos'] = generos\n",
    "\n",
    "    diretores = []\n",
    "    for diretor in filme_html.find('section', attrs={'data-testid': 'title-cast'}).find('div', {'class': 'ipc-metadata-list-item__content-container'}).find_all('li'):\n",
    "        diretores.append(diretor.text)\n",
    "\n",
    "    valores['Diretores'] = diretores\n",
    "\n",
    "    filmes_dic[unidecode(titulo)] = valores"
   ]
  },
  {
   "cell_type": "code",
   "execution_count": null,
   "metadata": {},
   "outputs": [],
   "source": [
    "with open(\"sample.json\", \"w\") as outfile:\n",
    "    json.dump(filmes_dic, outfile)"
   ]
  }
 ],
 "metadata": {
  "kernelspec": {
   "display_name": "Python 3.8.8 ('base')",
   "language": "python",
   "name": "python3"
  },
  "language_info": {
   "codemirror_mode": {
    "name": "ipython",
    "version": 3
   },
   "file_extension": ".py",
   "mimetype": "text/x-python",
   "name": "python",
   "nbconvert_exporter": "python",
   "pygments_lexer": "ipython3",
   "version": "3.8.8"
  },
  "vscode": {
   "interpreter": {
    "hash": "49d71d2429cbf8cd9a7e6c6af0821d82a76c0fe75844391efc6e7c03a4d7c2f6"
   }
  }
 },
 "nbformat": 4,
 "nbformat_minor": 2
}
