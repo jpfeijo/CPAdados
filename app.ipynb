{
 "cells": [
  {
   "cell_type": "code",
   "execution_count": 1,
   "metadata": {},
   "outputs": [
    {
     "name": "stderr",
     "output_type": "stream",
     "text": [
      "C:\\Users\\Nelson.Dellosbel\\.conda\\envs\\webs\\lib\\site-packages\\bs4\\builder\\__init__.py:545: XMLParsedAsHTMLWarning: It looks like you're parsing an XML document using an HTML parser. If this really is an HTML document (maybe it's XHTML?), you can ignore or filter this warning. If it's XML, you should know that using an XML parser will be more reliable. To parse this document as XML, make sure you have the lxml package installed, and pass the keyword argument `features=\"xml\"` into the BeautifulSoup constructor.\n",
      "  warnings.warn(\n"
     ]
    }
   ],
   "source": [
    "import requests\n",
    "from bs4 import BeautifulSoup\n",
    "import pandas as pd\n",
    "\n",
    "res = requests.get('http://127.0.0.1:8000/places/default/sitemap.xml')\n",
    "soup = BeautifulSoup(res.text, 'html5lib')"
   ]
  },
  {
   "cell_type": "code",
   "execution_count": 2,
   "metadata": {},
   "outputs": [
    {
     "data": {
      "text/plain": [
       "'http://127.0.0.1:8000/places/default/view/Afghanistan-1'"
      ]
     },
     "execution_count": 2,
     "metadata": {},
     "output_type": "execute_result"
    }
   ],
   "source": [
    "soup.find_all('loc')[0].text"
   ]
  },
  {
   "cell_type": "code",
   "execution_count": 80,
   "metadata": {},
   "outputs": [],
   "source": [
    "paises = pd.DataFrame()\n",
    "links = soup.find_all('loc')\n",
    "for link in links:\n",
    "    tds = {}\n",
    "    pais = requests.get(link.text)\n",
    "    soupP = BeautifulSoup(pais.text, 'html5lib')\n",
    "    trs = soupP.find_all('tr')\n",
    "    for tr in trs:\n",
    "        td = tr.find_all('td')\n",
    "        if td[1].find('img'):\n",
    "            tds[td[0].text] = td[1].find('img')['src']\n",
    "        else:\n",
    "            tds[td[0].text] = td[1].text\n",
    "\n",
    "    df = pd.DataFrame(list(tds.items()), columns=['Country', tds['Country: ']]).set_index('Country').T\n",
    "    paises = pd.concat([paises, df])"
   ]
  },
  {
   "cell_type": "code",
   "execution_count": 29,
   "metadata": {},
   "outputs": [],
   "source": [
    "paises.drop('Country: ', axis=1, inplace=True)"
   ]
  },
  {
   "cell_type": "code",
   "execution_count": 50,
   "metadata": {},
   "outputs": [],
   "source": [
    "paises.reset_index(inplace=True)\n",
    "paises.rename({'index': 'Country'}, axis=1, inplace=True)"
   ]
  },
  {
   "cell_type": "code",
   "execution_count": 31,
   "metadata": {},
   "outputs": [],
   "source": [
    "import datetime"
   ]
  },
  {
   "cell_type": "code",
   "execution_count": 40,
   "metadata": {},
   "outputs": [
    {
     "data": {
      "text/plain": [
       "'29/08/2022 12:30:23'"
      ]
     },
     "execution_count": 40,
     "metadata": {},
     "output_type": "execute_result"
    }
   ],
   "source": [
    "datetime.datetime.now().strftime('%d/%m/%Y %H:%M:%S')"
   ]
  },
  {
   "cell_type": "code",
   "execution_count": 41,
   "metadata": {},
   "outputs": [],
   "source": [
    "paises['Timestamp'] = datetime.datetime.now().strftime('%d/%m/%Y %H:%M:%S')"
   ]
  },
  {
   "cell_type": "code",
   "execution_count": 48,
   "metadata": {},
   "outputs": [],
   "source": [
    "paises.to_csv(r\"C:\\Users\\Nelson.Dellosbel\\Downloads\\CPAdados-main\\CPAdados-main\\data.csv\", encoding='latin1', sep=';', index=False)"
   ]
  },
  {
   "cell_type": "code",
   "execution_count": 43,
   "metadata": {},
   "outputs": [
    {
     "data": {
      "text/plain": [
       "Index(['Afghanistan', 'Aland Islands', 'Albania', 'Algeria', 'American Samoa',\n",
       "       'Andorra', 'Angola', 'Anguilla', 'Antarctica', 'Antigua and Barbuda',\n",
       "       ...\n",
       "       'Uzbekistan', 'Vanuatu', 'Vatican', 'Venezuela', 'Vietnam',\n",
       "       'Wallis and Futuna', 'Western Sahara', 'Yemen', 'Zambia', 'Zimbabwe'],\n",
       "      dtype='object', length=252)"
      ]
     },
     "execution_count": 43,
     "metadata": {},
     "output_type": "execute_result"
    }
   ],
   "source": [
    "paises.index"
   ]
  },
  {
   "cell_type": "code",
   "execution_count": null,
   "metadata": {},
   "outputs": [],
   "source": []
  }
 ],
 "metadata": {
  "kernelspec": {
   "display_name": "Python 3.8.8 ('base')",
   "language": "python",
   "name": "python3"
  },
  "language_info": {
   "codemirror_mode": {
    "name": "ipython",
    "version": 3
   },
   "file_extension": ".py",
   "mimetype": "text/x-python",
   "name": "python",
   "nbconvert_exporter": "python",
   "pygments_lexer": "ipython3",
   "version": "3.8.8"
  },
  "orig_nbformat": 4,
  "vscode": {
   "interpreter": {
    "hash": "49d71d2429cbf8cd9a7e6c6af0821d82a76c0fe75844391efc6e7c03a4d7c2f6"
   }
  }
 },
 "nbformat": 4,
 "nbformat_minor": 2
}
