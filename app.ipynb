{
 "cells": [
  {
   "cell_type": "markdown",
   "metadata": {},
   "source": [
    "## Funções:"
   ]
  },
  {
   "cell_type": "code",
   "execution_count": 1,
   "metadata": {},
   "outputs": [],
   "source": [
    "import requests\n",
    "from bs4 import BeautifulSoup\n",
    "import pandas as pd\n",
    "import datetime\n",
    "\n",
    "def request():\n",
    "    res = requests.get('http://127.0.0.1:8000/places/default/sitemap.xml')\n",
    "    soup = BeautifulSoup(res.text, 'html5lib')\n",
    "    return soup"
   ]
  },
  {
   "cell_type": "code",
   "execution_count": 2,
   "metadata": {},
   "outputs": [],
   "source": [
    "def crawler(soup):\n",
    "    paises = pd.DataFrame()\n",
    "    links = soup.find_all('loc')\n",
    "    for link in links:\n",
    "        tds = {}\n",
    "        pais = requests.get(link.text)\n",
    "        soupP = BeautifulSoup(pais.text, 'html5lib')\n",
    "        trs = soupP.find_all('tr')\n",
    "        for tr in trs:\n",
    "            td = tr.find_all('td')\n",
    "            if td[1].find('img'):\n",
    "                tds[td[0].text] = td[1].find('img')['src']\n",
    "            else:\n",
    "                tds[td[0].text] = td[1].text\n",
    "\n",
    "                \n",
    "    df = pd.DataFrame(list(tds.items()), columns=['Country', tds['Country: ']]).set_index('Country').T\n",
    "    paises = pd.concat([paises, df])\n",
    "    \n",
    "    paises.drop('Country: ', axis=1, inplace=True)\n",
    "    paises.reset_index(inplace=True)\n",
    "    paises.rename({'index': 'Country'}, axis=1, inplace=True)\n",
    "\n",
    "    datetime.datetime.now().strftime('%d/%m/%Y %H:%M:%S')\n",
    "    paises['Timestamp'] = datetime.datetime.now().strftime('%d/%m/%Y %H:%M:%S')\n",
    "    return paises"
   ]
  },
  {
   "cell_type": "code",
   "execution_count": null,
   "metadata": {},
   "outputs": [],
   "source": [
    "def compara_df(df1,df2):\n",
    "    df = df2.merge(df1, how = \"left\")\n",
    "    return df"
   ]
  },
  {
   "cell_type": "markdown",
   "metadata": {},
   "source": [
    "## Roda o programa:"
   ]
  },
  {
   "cell_type": "code",
   "execution_count": 4,
   "metadata": {},
   "outputs": [],
   "source": [
    "Res = request()\n",
    "crawl = crawler(Res)\n",
    "crawl.to_csv(\"data.csv\", encoding='latin1', sep=';', index=False)"
   ]
  },
  {
   "cell_type": "markdown",
   "metadata": {},
   "source": [
    "## Monitoramento das páginas:"
   ]
  },
  {
   "cell_type": "code",
   "execution_count": null,
   "metadata": {},
   "outputs": [],
   "source": [
    "Res = request()\n",
    "crawl = crawler(Res)\n",
    "df = pd.read_csv(\"data.csv\")\n",
    "\n",
    "new_df = compara_df(df, crawl)\n",
    "\n",
    "new_df.to_csv(\"data.csv\", encoding='latin1', sep=';', index=False)"
   ]
  }
 ],
 "metadata": {
  "kernelspec": {
   "display_name": "Python 3 (ipykernel)",
   "language": "python",
   "name": "python3"
  },
  "language_info": {
   "codemirror_mode": {
    "name": "ipython",
    "version": 3
   },
   "file_extension": ".py",
   "mimetype": "text/x-python",
   "name": "python",
   "nbconvert_exporter": "python",
   "pygments_lexer": "ipython3",
   "version": "3.10.6"
  },
  "vscode": {
   "interpreter": {
    "hash": "49d71d2429cbf8cd9a7e6c6af0821d82a76c0fe75844391efc6e7c03a4d7c2f6"
   }
  }
 },
 "nbformat": 4,
 "nbformat_minor": 4
}
