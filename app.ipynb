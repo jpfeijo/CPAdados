{
  "metadata": {
    "kernelspec": {
      "name": "python",
      "display_name": "Python (Pyodide)",
      "language": "python"
    },
    "language_info": {
      "codemirror_mode": {
        "name": "python",
        "version": 3
      },
      "file_extension": ".py",
      "mimetype": "text/x-python",
      "name": "python",
      "nbconvert_exporter": "python",
      "pygments_lexer": "ipython3",
      "version": "3.8"
    },
    "vscode": {
      "interpreter": {
        "hash": "49d71d2429cbf8cd9a7e6c6af0821d82a76c0fe75844391efc6e7c03a4d7c2f6"
      }
    }
  },
  "nbformat_minor": 4,
  "nbformat": 4,
  "cells": [
    {
      "cell_type": "code",
      "source": "import requests\nfrom bs4 import BeautifulSoup\nimport pandas as pd\nimport datetime\n\ndef request():\n    res = requests.get('http://127.0.0.1:8000/places/default/sitemap.xml')\n    soup = BeautifulSoup(res.text, 'html5lib')\n    return soup",
      "metadata": {},
      "execution_count": 1,
      "outputs": []
    },
    {
      "cell_type": "code",
      "source": "def crawler(soup):\n    paises = pd.DataFrame()\n    links = soup.find_all('loc')\n    for link in links:\n        tds = {}\n        pais = requests.get(link.text)\n        soupP = BeautifulSoup(pais.text, 'html5lib')\n        trs = soupP.find_all('tr')\n        for tr in trs:\n            td = tr.find_all('td')\n            if td[1].find('img'):\n                tds[td[0].text] = td[1].find('img')['src']\n            else:\n                tds[td[0].text] = td[1].text\n\n                \n    df = pd.DataFrame(list(tds.items()), columns=['Country', tds['Country: ']]).set_index('Country').T\n    paises = pd.concat([paises, df])\n    \n    paises.drop('Country: ', axis=1, inplace=True)\n    paises.reset_index(inplace=True)\n    paises.rename({'index': 'Country'}, axis=1, inplace=True)\n\n    datetime.datetime.now().strftime('%d/%m/%Y %H:%M:%S')\n    paises['Timestamp'] = datetime.datetime.now().strftime('%d/%m/%Y %H:%M:%S')\n    return paises",
      "metadata": {},
      "execution_count": 2,
      "outputs": []
    },
    {
      "cell_type": "code",
      "source": "def compara_df(df1,df2):\n    df = df2.merge(df1, how = \"left\")\n    return df",
      "metadata": {},
      "execution_count": null,
      "outputs": []
    },
    {
      "cell_type": "markdown",
      "source": "Roda o programa",
      "metadata": {}
    },
    {
      "cell_type": "code",
      "source": "\nRes = request()\ncrawl = crawler(Res)\ncrawl.to_csv(\"data.csv\", encoding='latin1', sep=';', index=False)",
      "metadata": {},
      "execution_count": 4,
      "outputs": []
    }
  ]
}